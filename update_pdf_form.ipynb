{
 "cells": [
  {
   "cell_type": "code",
   "execution_count": 3,
   "id": "ac88b875-1b41-4e62-a094-80bf08c33f85",
   "metadata": {},
   "outputs": [
    {
     "name": "stdout",
     "output_type": "stream",
     "text": [
      "Extracting form fields from test.pdf to test.json\n"
     ]
    }
   ],
   "source": [
    "from talkdoc_core.pdf_ops import extract_fields_from_form\n",
    "import os\n",
    "import shutil\n",
    "\n",
    "source_pdf_path = \"test.pdf\"\n",
    "source_form_path = os.path.basename(source_pdf_path).split('.')[0] + '.json'\n",
    "\n",
    "\n",
    "extract_fields_from_form(source_pdf_path)\n",
    "\n",
    "\n",
    "if os.path.exists(source_form_path):\n",
    "\n",
    "    destination_path = f\"pdfs/{os.path.basename(source_pdf_path)}\"\n",
    "    shutil.move(source_pdf_path, destination_path)\n",
    "\n",
    "    destination_form_path = f\"form_templates/{os.path.basename(source_form_path)}\"\n",
    "    shutil.move(source_form_path, destination_form_path)\n"
   ]
  }
 ],
 "metadata": {
  "kernelspec": {
   "display_name": "talkdoc-core (3.11.4)",
   "language": "python",
   "name": "python3"
  },
  "language_info": {
   "codemirror_mode": {
    "name": "ipython",
    "version": 3
   },
   "file_extension": ".py",
   "mimetype": "text/x-python",
   "name": "python",
   "nbconvert_exporter": "python",
   "pygments_lexer": "ipython3",
   "version": "3.11.4"
  }
 },
 "nbformat": 4,
 "nbformat_minor": 5
}
